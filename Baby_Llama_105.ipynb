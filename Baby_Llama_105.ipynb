{
  "cells": [
    {
      "cell_type": "markdown",
      "metadata": {
        "id": "view-in-github",
        "colab_type": "text"
      },
      "source": [
        "<a href=\"https://colab.research.google.com/github/EN10/BabyLlama/blob/main/Baby_Llama_105.ipynb\" target=\"_parent\"><img src=\"https://colab.research.google.com/assets/colab-badge.svg\" alt=\"Open In Colab\"/></a>"
      ]
    },
    {
      "cell_type": "code",
      "execution_count": null,
      "metadata": {
        "colab": {
          "base_uri": "https://localhost:8080/"
        },
        "id": "OnipH4BHgpu1",
        "outputId": "d3156936-886e-4087-cad0-bf72117d451f"
      },
      "outputs": [
        {
          "output_type": "stream",
          "name": "stdout",
          "text": [
            "Cloning into 'llama2.c'...\n",
            "remote: Enumerating objects: 1507, done.\u001b[K\n",
            "remote: Counting objects: 100% (573/573), done.\u001b[K\n",
            "remote: Compressing objects: 100% (70/70), done.\u001b[K\n",
            "remote: Total 1507 (delta 535), reused 517 (delta 503), pack-reused 934\u001b[K\n",
            "Receiving objects: 100% (1507/1507), 1.20 MiB | 15.00 MiB/s, done.\n",
            "Resolving deltas: 100% (926/926), done.\n",
            "Requirement already satisfied: sentencepiece in /usr/local/lib/python3.10/dist-packages (0.1.99)\n"
          ]
        }
      ],
      "source": [
        "# training and inference code\n",
        "!git clone https://github.com/karpathy/llama2.c.git\n",
        "# tokenizer library\n",
        "!pip install sentencepiece"
      ]
    },
    {
      "cell_type": "code",
      "execution_count": null,
      "metadata": {
        "colab": {
          "base_uri": "https://localhost:8080/"
        },
        "id": "mWzFVICBv1sY",
        "outputId": "75775ed3-0e97-4671-a99a-fd3dc697a224"
      },
      "outputs": [
        {
          "output_type": "stream",
          "name": "stdout",
          "text": [
            "Downloading https://huggingface.co/datasets/roneneldan/TinyStories/resolve/main/TinyStories_all_data.tar.gz to data/TinyStories_all_data.tar.gz...\n",
            "data/TinyStories_all_data.tar.gz: 100% 1.50G/1.50G [00:38<00:00, 41.5MiB/s]\n",
            "Unpacking data/TinyStories_all_data.tar.gz...\n",
            "Download done.\n",
            "Number of shards: 50\n",
            "Example story:\n",
            "{'story': '\\n\\nLily and Ben are friends. They like to play in the park. One day, they see a big tree with a swing. Lily wants to try the swing. She runs to the tree and climbs on the swing.\\n\"Push me, Ben!\" she says. Ben pushes her gently. Lily feels happy. She swings higher and higher. She laughs and shouts.\\nBen watches Lily. He thinks she is cute. He wants to swing too. He waits for Lily to stop. But Lily does not stop. She swings faster and faster. She is having too much fun.\\n\"Can I swing too, Lily?\" Ben asks. Lily does not hear him. She is too busy swinging. Ben feels sad. He walks away.\\nLily swings so high that she loses her grip. She falls off the swing. She lands on the ground. She hurts her foot. She cries.\\n\"Ow, ow, ow!\" she says. She looks for Ben. She wants him to help her. But Ben is not there. He is gone.\\nLily feels sorry. She wishes she had shared the swing with Ben. She wishes he was there to hug her. She limps to the tree. She sees something hanging from a branch. It is Ben\\'s hat. He left it for her.\\nLily smiles. She thinks Ben is nice. She puts on his hat. She hopes he will come back. She wants to say sorry. She wants to be friends again.', 'instruction': {'prompt:': 'Write a short story (3-5 paragraphs) which only uses very simple words that a 3 year old child would understand. The story should use the verb \"hang\", the noun \"foot\" and the adjective \"cute\". The story has the following features: the story should contain at least one dialogue. Remember to only use simple words!\\n\\nPossible story:', 'words': ['hang', 'foot', 'cute'], 'features': ['Dialogue']}, 'summary': 'Lily and Ben play in the park and Lily gets too caught up in swinging, causing Ben to leave. Lily falls off the swing and hurts herself, but Ben leaves his hat for her as a kind gesture.', 'source': 'GPT-4'}\n"
          ]
        }
      ],
      "source": [
        "# download training data\n",
        "!cd llama2.c && python tinystories.py download"
      ]
    },
    {
      "cell_type": "code",
      "execution_count": null,
      "metadata": {
        "id": "R979Y8Q72znh"
      },
      "outputs": [],
      "source": [
        "# remove byte fallback <0x00> ... <0xFF> on line 113\n",
        "!sed -i \"113s/.*/                                   byte_fallback=False,/\" ./llama2.c/tinystories.py\n",
        "# change bfloat16 to float16 on line 72\n",
        "!sed -i \"72s/.*/dtype = 'float16'  # float32|bfloat16|float16/\" ./llama2.c/train.py"
      ]
    },
    {
      "cell_type": "code",
      "execution_count": null,
      "metadata": {
        "id": "Tx04_T-pv1zf"
      },
      "outputs": [],
      "source": [
        "# create vocab\n",
        "#!cd llama2.c && python tinystories.py train_vocab --vocab_size=105\n",
        "!cd ./llama2.c/data && wget https://huggingface.co/datasets/enio/TinyStories/resolve/main/tok105/tok105.model\n",
        "!cd ./llama2.c/data && wget https://huggingface.co/datasets/enio/TinyStories/raw/main/tok105/tok105.vocab\n",
        "\n",
        "# use vocab to pretokenize training data\n",
        "#!cd llama2.c && python tinystories.py pretokenize --vocab_size=105\n",
        "#!cd llama2.c/data && tar -czvf tok105.tar.gz tok105\n",
        "!cd ./llama2.c/data && wget https://huggingface.co/datasets/enio/TinyStories/resolve/main/tok105/tok105.tar.gz\n",
        "!cd ./llama2.c/data && tar -xf tok105.tar.gz"
      ]
    },
    {
      "cell_type": "code",
      "execution_count": null,
      "metadata": {
        "id": "sdMK1MW8g4eM"
      },
      "outputs": [],
      "source": [
        "# train neural net\n",
        "!cd llama2.c && python train.py --vocab_source=custom --vocab_size=105 --compile=False \\\n",
        "  --dim=128 --n_layers=5 --n_heads=8 --n_kv_heads=4 --batch_size=32 \\\n",
        "  --always_save_checkpoint=True --eval_interval=1 --max_iters=1 #--init_from='resume'"
      ]
    },
    {
      "cell_type": "code",
      "execution_count": null,
      "metadata": {
        "id": "oUpbYitgNdMh"
      },
      "outputs": [],
      "source": [
        "# compile run / inference executable\n",
        "!cd llama2.c && gcc -O3 -o run run.c -lm\n",
        "# create tok105.bin\n",
        "!cd llama2.c && python tokenizer.py --tokenizer-model=data/tok105.model"
      ]
    },
    {
      "cell_type": "code",
      "execution_count": null,
      "metadata": {
        "id": "1-ylANKlOfCr"
      },
      "outputs": [],
      "source": [
        "# inference\n",
        "!cd ./llama2.c && ./run out/model.bin -z data/tok105.bin -t 0.8 -n 256 -i \"Once upon a time \""
      ]
    }
  ],
  "metadata": {
    "accelerator": "GPU",
    "colab": {
      "gpuType": "T4",
      "provenance": [],
      "mount_file_id": "1wVJp4awOTeDF7zGiqsSOs9_xAh6tbk8g",
      "authorship_tag": "ABX9TyNFMT8UUM5+lKpRXYoQW2OV",
      "include_colab_link": true
    },
    "kernelspec": {
      "display_name": "Python 3",
      "name": "python3"
    },
    "language_info": {
      "name": "python"
    }
  },
  "nbformat": 4,
  "nbformat_minor": 0
}