{
  "cells": [
    {
      "cell_type": "markdown",
      "metadata": {
        "id": "view-in-github",
        "colab_type": "text"
      },
      "source": [
        "<a href=\"https://colab.research.google.com/github/EN10/BabyLlama/blob/main/Baby_Llama_105.ipynb\" target=\"_parent\"><img src=\"https://colab.research.google.com/assets/colab-badge.svg\" alt=\"Open In Colab\"/></a>"
      ]
    },
    {
      "cell_type": "code",
      "execution_count": 1,
      "metadata": {
        "colab": {
          "base_uri": "https://localhost:8080/"
        },
        "id": "OnipH4BHgpu1",
        "outputId": "0ac79eb9-2e8c-494f-b534-dbbc13a5bbf3"
      },
      "outputs": [
        {
          "output_type": "stream",
          "name": "stdout",
          "text": [
            "Cloning into 'llama2.c'...\n",
            "remote: Enumerating objects: 1507, done.\u001b[K\n",
            "remote: Counting objects: 100% (640/640), done.\u001b[K\n",
            "remote: Compressing objects: 100% (74/74), done.\u001b[K\n",
            "remote: Total 1507 (delta 601), reused 580 (delta 566), pack-reused 867\u001b[K\n",
            "Receiving objects: 100% (1507/1507), 1.20 MiB | 3.85 MiB/s, done.\n",
            "Resolving deltas: 100% (926/926), done.\n"
          ]
        }
      ],
      "source": [
        "# training and inference code\n",
        "!git clone https://github.com/karpathy/llama2.c.git\n",
        "# tokenizer library\n",
        "#!pip install sentencepiece"
      ]
    },
    {
      "cell_type": "code",
      "execution_count": 2,
      "metadata": {
        "colab": {
          "base_uri": "https://localhost:8080/"
        },
        "id": "mWzFVICBv1sY",
        "outputId": "32d76f31-8ca1-4f00-8898-0b98c6ecbfd5"
      },
      "outputs": [
        {
          "output_type": "stream",
          "name": "stdout",
          "text": [
            "Downloading https://huggingface.co/datasets/roneneldan/TinyStories/resolve/main/TinyStories_all_data.tar.gz to data/TinyStories_all_data.tar.gz...\n",
            "data/TinyStories_all_data.tar.gz: 100% 1.50G/1.50G [00:33<00:00, 48.4MiB/s]\n",
            "Unpacking data/TinyStories_all_data.tar.gz...\n",
            "Download done.\n",
            "Number of shards: 50\n",
            "Example story:\n",
            "{'story': '\\n\\nLily and Ben are friends. They like to play in the park. One day, they see a big tree with a swing. Lily wants to try the swing. She runs to the tree and climbs on the swing.\\n\"Push me, Ben!\" she says. Ben pushes her gently. Lily feels happy. She swings higher and higher. She laughs and shouts.\\nBen watches Lily. He thinks she is cute. He wants to swing too. He waits for Lily to stop. But Lily does not stop. She swings faster and faster. She is having too much fun.\\n\"Can I swing too, Lily?\" Ben asks. Lily does not hear him. She is too busy swinging. Ben feels sad. He walks away.\\nLily swings so high that she loses her grip. She falls off the swing. She lands on the ground. She hurts her foot. She cries.\\n\"Ow, ow, ow!\" she says. She looks for Ben. She wants him to help her. But Ben is not there. He is gone.\\nLily feels sorry. She wishes she had shared the swing with Ben. She wishes he was there to hug her. She limps to the tree. She sees something hanging from a branch. It is Ben\\'s hat. He left it for her.\\nLily smiles. She thinks Ben is nice. She puts on his hat. She hopes he will come back. She wants to say sorry. She wants to be friends again.', 'instruction': {'prompt:': 'Write a short story (3-5 paragraphs) which only uses very simple words that a 3 year old child would understand. The story should use the verb \"hang\", the noun \"foot\" and the adjective \"cute\". The story has the following features: the story should contain at least one dialogue. Remember to only use simple words!\\n\\nPossible story:', 'words': ['hang', 'foot', 'cute'], 'features': ['Dialogue']}, 'summary': 'Lily and Ben play in the park and Lily gets too caught up in swinging, causing Ben to leave. Lily falls off the swing and hurts herself, but Ben leaves his hat for her as a kind gesture.', 'source': 'GPT-4'}\n"
          ]
        }
      ],
      "source": [
        "# download training data\n",
        "!cd llama2.c && python tinystories.py download"
      ]
    },
    {
      "cell_type": "code",
      "execution_count": 3,
      "metadata": {
        "id": "R979Y8Q72znh"
      },
      "outputs": [],
      "source": [
        "# remove byte fallback <0x00> ... <0xFF> on line 113\n",
        "!sed -i \"113s/.*/                                   byte_fallback=False,/\" ./llama2.c/tinystories.py\n",
        "# change bfloat16 to float16 on line 72\n",
        "!sed -i \"72s/.*/dtype = 'float16'  # float32|bfloat16|float16/\" ./llama2.c/train.py"
      ]
    },
    {
      "cell_type": "code",
      "execution_count": 4,
      "metadata": {
        "id": "Tx04_T-pv1zf",
        "outputId": "e22b946e-dd36-43a8-aacd-84efdcd7a16d",
        "colab": {
          "base_uri": "https://localhost:8080/"
        }
      },
      "outputs": [
        {
          "output_type": "stream",
          "name": "stdout",
          "text": [
            "--2024-02-29 08:14:07--  https://huggingface.co/datasets/enio/TinyStories/resolve/main/tok105/tok105.model\n",
            "Resolving huggingface.co (huggingface.co)... 18.155.173.64, 18.155.173.122, 18.155.173.126, ...\n",
            "Connecting to huggingface.co (huggingface.co)|18.155.173.64|:443... connected.\n",
            "HTTP request sent, awaiting response... 302 Found\n",
            "Location: https://cdn-lfs-us-1.huggingface.co/repos/65/c8/65c8615bfd6b6d94c8e62381ee6653578b439f71ff04b86aaefa9828dec8bb70/eed6827c1b4d876b982b9b628626dba444960a041857085e0d88c4a92aa8d3c6?response-content-disposition=attachment%3B+filename*%3DUTF-8%27%27tok105.model%3B+filename%3D%22tok105.model%22%3B&Expires=1709453647&Policy=eyJTdGF0ZW1lbnQiOlt7IkNvbmRpdGlvbiI6eyJEYXRlTGVzc1RoYW4iOnsiQVdTOkVwb2NoVGltZSI6MTcwOTQ1MzY0N319LCJSZXNvdXJjZSI6Imh0dHBzOi8vY2RuLWxmcy11cy0xLmh1Z2dpbmdmYWNlLmNvL3JlcG9zLzY1L2M4LzY1Yzg2MTViZmQ2YjZkOTRjOGU2MjM4MWVlNjY1MzU3OGI0MzlmNzFmZjA0Yjg2YWFlZmE5ODI4ZGVjOGJiNzAvZWVkNjgyN2MxYjRkODc2Yjk4MmI5YjYyODYyNmRiYTQ0NDk2MGEwNDE4NTcwODVlMGQ4OGM0YTkyYWE4ZDNjNj9yZXNwb25zZS1jb250ZW50LWRpc3Bvc2l0aW9uPSoifV19&Signature=YxlCc92GL4VaSdRILubIKE76dKhX4ykey0TlLtq04Jj-z8W035lOgJAk47b2WRVCEx5uGCRUTBLrEErmtx%7ELQMAv2udBMcFsBQfQphpC3PYQ2WEP1Tn4x9fx8t-sRTWo%7Eil4MIR1TjQxw8XGeEu-pYjVCScv4bs0eN6-lWmEyz0hMbVuGmHA-6EItz0XLXoUuYw2HdQhUPfXWBnnT9lA5kRwTGXQNgGq2vMiUab7VD5KHtIjB-gYrJmcCO%7E7lt6b9LQN6YXpMFHAJblUG-mwD6ySEIKiKU4B1yGymn8xzPi8Yp70efI9B3S5O3tFZfsDPdn1gr8hjOJDKtCxKNoKBQ__&Key-Pair-Id=KCD77M1F0VK2B [following]\n",
            "--2024-02-29 08:14:07--  https://cdn-lfs-us-1.huggingface.co/repos/65/c8/65c8615bfd6b6d94c8e62381ee6653578b439f71ff04b86aaefa9828dec8bb70/eed6827c1b4d876b982b9b628626dba444960a041857085e0d88c4a92aa8d3c6?response-content-disposition=attachment%3B+filename*%3DUTF-8%27%27tok105.model%3B+filename%3D%22tok105.model%22%3B&Expires=1709453647&Policy=eyJTdGF0ZW1lbnQiOlt7IkNvbmRpdGlvbiI6eyJEYXRlTGVzc1RoYW4iOnsiQVdTOkVwb2NoVGltZSI6MTcwOTQ1MzY0N319LCJSZXNvdXJjZSI6Imh0dHBzOi8vY2RuLWxmcy11cy0xLmh1Z2dpbmdmYWNlLmNvL3JlcG9zLzY1L2M4LzY1Yzg2MTViZmQ2YjZkOTRjOGU2MjM4MWVlNjY1MzU3OGI0MzlmNzFmZjA0Yjg2YWFlZmE5ODI4ZGVjOGJiNzAvZWVkNjgyN2MxYjRkODc2Yjk4MmI5YjYyODYyNmRiYTQ0NDk2MGEwNDE4NTcwODVlMGQ4OGM0YTkyYWE4ZDNjNj9yZXNwb25zZS1jb250ZW50LWRpc3Bvc2l0aW9uPSoifV19&Signature=YxlCc92GL4VaSdRILubIKE76dKhX4ykey0TlLtq04Jj-z8W035lOgJAk47b2WRVCEx5uGCRUTBLrEErmtx%7ELQMAv2udBMcFsBQfQphpC3PYQ2WEP1Tn4x9fx8t-sRTWo%7Eil4MIR1TjQxw8XGeEu-pYjVCScv4bs0eN6-lWmEyz0hMbVuGmHA-6EItz0XLXoUuYw2HdQhUPfXWBnnT9lA5kRwTGXQNgGq2vMiUab7VD5KHtIjB-gYrJmcCO%7E7lt6b9LQN6YXpMFHAJblUG-mwD6ySEIKiKU4B1yGymn8xzPi8Yp70efI9B3S5O3tFZfsDPdn1gr8hjOJDKtCxKNoKBQ__&Key-Pair-Id=KCD77M1F0VK2B\n",
            "Resolving cdn-lfs-us-1.huggingface.co (cdn-lfs-us-1.huggingface.co)... 18.154.206.42, 18.154.206.76, 18.154.206.88, ...\n",
            "Connecting to cdn-lfs-us-1.huggingface.co (cdn-lfs-us-1.huggingface.co)|18.154.206.42|:443... connected.\n",
            "HTTP request sent, awaiting response... 200 OK\n",
            "Length: 1181 (1.2K) [binary/octet-stream]\n",
            "Saving to: ‘tok105.model’\n",
            "\n",
            "tok105.model        100%[===================>]   1.15K  --.-KB/s    in 0s      \n",
            "\n",
            "2024-02-29 08:14:07 (478 MB/s) - ‘tok105.model’ saved [1181/1181]\n",
            "\n",
            "--2024-02-29 08:14:07--  https://huggingface.co/datasets/enio/TinyStories/raw/main/tok105/tok105.vocab\n",
            "Resolving huggingface.co (huggingface.co)... 18.164.174.17, 18.164.174.55, 18.164.174.23, ...\n",
            "Connecting to huggingface.co (huggingface.co)|18.164.174.17|:443... connected.\n",
            "HTTP request sent, awaiting response... 200 OK\n",
            "Length: 651 [text/plain]\n",
            "Saving to: ‘tok105.vocab’\n",
            "\n",
            "tok105.vocab        100%[===================>]     651  --.-KB/s    in 0s      \n",
            "\n",
            "2024-02-29 08:14:07 (337 MB/s) - ‘tok105.vocab’ saved [651/651]\n",
            "\n",
            "--2024-02-29 08:14:07--  https://huggingface.co/datasets/enio/TinyStories/resolve/main/tok105/tok105.tar.gz\n",
            "Resolving huggingface.co (huggingface.co)... 18.164.174.23, 18.164.174.118, 18.164.174.17, ...\n",
            "Connecting to huggingface.co (huggingface.co)|18.164.174.23|:443... connected.\n",
            "HTTP request sent, awaiting response... 302 Found\n",
            "Location: https://cdn-lfs-us-1.huggingface.co/repos/65/c8/65c8615bfd6b6d94c8e62381ee6653578b439f71ff04b86aaefa9828dec8bb70/cb372a204bcf1d02859ee1e11f956a8b49b6745e47bc791f943c3640e598bcdf?response-content-disposition=attachment%3B+filename*%3DUTF-8%27%27tok105.tar.gz%3B+filename%3D%22tok105.tar.gz%22%3B&response-content-type=application%2Fgzip&Expires=1709453647&Policy=eyJTdGF0ZW1lbnQiOlt7IkNvbmRpdGlvbiI6eyJEYXRlTGVzc1RoYW4iOnsiQVdTOkVwb2NoVGltZSI6MTcwOTQ1MzY0N319LCJSZXNvdXJjZSI6Imh0dHBzOi8vY2RuLWxmcy11cy0xLmh1Z2dpbmdmYWNlLmNvL3JlcG9zLzY1L2M4LzY1Yzg2MTViZmQ2YjZkOTRjOGU2MjM4MWVlNjY1MzU3OGI0MzlmNzFmZjA0Yjg2YWFlZmE5ODI4ZGVjOGJiNzAvY2IzNzJhMjA0YmNmMWQwMjg1OWVlMWUxMWY5NTZhOGI0OWI2NzQ1ZTQ3YmM3OTFmOTQzYzM2NDBlNTk4YmNkZj9yZXNwb25zZS1jb250ZW50LWRpc3Bvc2l0aW9uPSomcmVzcG9uc2UtY29udGVudC10eXBlPSoifV19&Signature=i8RmF2OU%7EXnsibsSLPidO8nVRMnBAJnxJp4l44sMDgtexnugq9Ba%7E22x5feRWEaQJpwtLWawRoiMKMjjfOlow4gtVAcgeXsJ7OFpnJdrfkSncCHarrFD%7Eg4ZaH2uUtZEBBnZ%7E%7EEPmhEhASOlq9YE6V5KvC9EIOZYK0qxyeJkDmqDzJvjUN-h9fCd7crrDj-Aw4ji6kpwzYx7kZ0sJo4spiZb3jAGzizfxUaVRaEq7xXIYNW3vNaQkwbOavZM-NpB5NxE9dZFCT9utYO31NgR6TJllQa0tqJ1lByas01RCF41SgNuOzPaPAVf2K9Yf4ULi93O886IdqgeAaYVPCH7Rg__&Key-Pair-Id=KCD77M1F0VK2B [following]\n",
            "--2024-02-29 08:14:07--  https://cdn-lfs-us-1.huggingface.co/repos/65/c8/65c8615bfd6b6d94c8e62381ee6653578b439f71ff04b86aaefa9828dec8bb70/cb372a204bcf1d02859ee1e11f956a8b49b6745e47bc791f943c3640e598bcdf?response-content-disposition=attachment%3B+filename*%3DUTF-8%27%27tok105.tar.gz%3B+filename%3D%22tok105.tar.gz%22%3B&response-content-type=application%2Fgzip&Expires=1709453647&Policy=eyJTdGF0ZW1lbnQiOlt7IkNvbmRpdGlvbiI6eyJEYXRlTGVzc1RoYW4iOnsiQVdTOkVwb2NoVGltZSI6MTcwOTQ1MzY0N319LCJSZXNvdXJjZSI6Imh0dHBzOi8vY2RuLWxmcy11cy0xLmh1Z2dpbmdmYWNlLmNvL3JlcG9zLzY1L2M4LzY1Yzg2MTViZmQ2YjZkOTRjOGU2MjM4MWVlNjY1MzU3OGI0MzlmNzFmZjA0Yjg2YWFlZmE5ODI4ZGVjOGJiNzAvY2IzNzJhMjA0YmNmMWQwMjg1OWVlMWUxMWY5NTZhOGI0OWI2NzQ1ZTQ3YmM3OTFmOTQzYzM2NDBlNTk4YmNkZj9yZXNwb25zZS1jb250ZW50LWRpc3Bvc2l0aW9uPSomcmVzcG9uc2UtY29udGVudC10eXBlPSoifV19&Signature=i8RmF2OU%7EXnsibsSLPidO8nVRMnBAJnxJp4l44sMDgtexnugq9Ba%7E22x5feRWEaQJpwtLWawRoiMKMjjfOlow4gtVAcgeXsJ7OFpnJdrfkSncCHarrFD%7Eg4ZaH2uUtZEBBnZ%7E%7EEPmhEhASOlq9YE6V5KvC9EIOZYK0qxyeJkDmqDzJvjUN-h9fCd7crrDj-Aw4ji6kpwzYx7kZ0sJo4spiZb3jAGzizfxUaVRaEq7xXIYNW3vNaQkwbOavZM-NpB5NxE9dZFCT9utYO31NgR6TJllQa0tqJ1lByas01RCF41SgNuOzPaPAVf2K9Yf4ULi93O886IdqgeAaYVPCH7Rg__&Key-Pair-Id=KCD77M1F0VK2B\n",
            "Resolving cdn-lfs-us-1.huggingface.co (cdn-lfs-us-1.huggingface.co)... 18.154.206.42, 18.154.206.76, 18.154.206.88, ...\n",
            "Connecting to cdn-lfs-us-1.huggingface.co (cdn-lfs-us-1.huggingface.co)|18.154.206.42|:443... connected.\n",
            "HTTP request sent, awaiting response... 200 OK\n",
            "Length: 1397322602 (1.3G) [application/gzip]\n",
            "Saving to: ‘tok105.tar.gz’\n",
            "\n",
            "tok105.tar.gz       100%[===================>]   1.30G  81.7MB/s    in 17s     \n",
            "\n",
            "2024-02-29 08:14:24 (80.2 MB/s) - ‘tok105.tar.gz’ saved [1397322602/1397322602]\n",
            "\n"
          ]
        }
      ],
      "source": [
        "# create vocab\n",
        "#!cd llama2.c && python tinystories.py train_vocab --vocab_size=105\n",
        "!cd ./llama2.c/data && wget https://huggingface.co/datasets/enio/TinyStories/resolve/main/tok105/tok105.model\n",
        "!cd ./llama2.c/data && wget https://huggingface.co/datasets/enio/TinyStories/raw/main/tok105/tok105.vocab\n",
        "\n",
        "# use vocab to pretokenize training data\n",
        "#!cd llama2.c && python tinystories.py pretokenize --vocab_size=105\n",
        "#!cd llama2.c/data && tar -czvf tok105.tar.gz tok105\n",
        "!cd ./llama2.c/data && wget https://huggingface.co/datasets/enio/TinyStories/resolve/main/tok105/tok105.tar.gz\n",
        "!cd ./llama2.c/data && tar -xf tok105.tar.gz"
      ]
    },
    {
      "cell_type": "code",
      "execution_count": 5,
      "metadata": {
        "id": "sdMK1MW8g4eM",
        "outputId": "1934b8fd-9086-4ad1-a6f8-920729506dd9",
        "colab": {
          "base_uri": "https://localhost:8080/"
        }
      },
      "outputs": [
        {
          "output_type": "stream",
          "name": "stdout",
          "text": [
            "Overriding: vocab_source = custom\n",
            "Overriding: vocab_size = 105\n",
            "Overriding: compile = False\n",
            "Overriding: dim = 128\n",
            "Overriding: n_layers = 5\n",
            "Overriding: n_heads = 8\n",
            "Overriding: n_kv_heads = 4\n",
            "Overriding: batch_size = 32\n",
            "Overriding: always_save_checkpoint = True\n",
            "Overriding: eval_interval = 1\n",
            "Overriding: max_iters = 1\n",
            "tokens per iteration will be: 32,768\n",
            "breaks down as: 4 grad accum steps * 1 processes * 32 batch size * 256 max seq len\n",
            "Initializing a new model from scratch\n",
            "num decayed parameter tensors: 36, with 935,040 parameters\n",
            "num non-decayed parameter tensors: 11, with 1,408 parameters\n",
            "using fused AdamW: True\n",
            "Created a PretokDataset with rng seed 42\n",
            "Created a PretokDataset with rng seed 42\n",
            "Created a PretokDataset with rng seed 42\n",
            "step 0: train loss 4.7026, val loss 4.7022\n",
            "0 | loss 4.7046 | lr 0.000000e+00 | 5463.24ms | mfu -100.00%\n",
            "Created a PretokDataset with rng seed 42\n",
            "Created a PretokDataset with rng seed 42\n",
            "step 1: train loss 4.7026, val loss 4.7022\n",
            "saving checkpoint to out\n",
            "wrote out/model.bin\n",
            "1 | loss 4.7073 | lr 5.000000e-07 | 2327.63ms | mfu -100.00%\n"
          ]
        }
      ],
      "source": [
        "# train neural net\n",
        "!cd llama2.c && python train.py --vocab_source=custom --vocab_size=105 --compile=False \\\n",
        "  --dim=128 --n_layers=5 --n_heads=8 --n_kv_heads=4 --batch_size=32 \\\n",
        "  --always_save_checkpoint=True --eval_interval=1 --max_iters=1 #--init_from='resume'"
      ]
    },
    {
      "cell_type": "code",
      "execution_count": 6,
      "metadata": {
        "id": "oUpbYitgNdMh"
      },
      "outputs": [],
      "source": [
        "# compile run / inference executable\n",
        "!cd llama2.c && gcc -O3 -o run run.c -lm\n",
        "# create tok105.bin\n",
        "!cd llama2.c && python tokenizer.py --tokenizer-model=data/tok105.model"
      ]
    },
    {
      "cell_type": "code",
      "execution_count": 7,
      "metadata": {
        "id": "1-ylANKlOfCr",
        "outputId": "3c328912-22f5-4b83-a011-0fe2f309c074",
        "colab": {
          "base_uri": "https://localhost:8080/"
        }
      },
      "outputs": [
        {
          "output_type": "stream",
          "name": "stdout",
          "text": [
            "Once upon a time  b-lxOLu’~f‘8T<unk>Puhgr”D<unk><unk>‘“:ipoa25*OS9|v7&ggC““9]TMXffw  C€/“”™I&x\"0Uz€–QQT9znO’6  —q™™|'Lx&”HHH&r:yy76k——x<unk>V|$mOX‘‘<unk>O(”6€G~\"\n",
            "</s>\n",
            "–cceAe44$2-~  9F**(MM<unk>‘‘QWW RoqqU  $9:roo\n",
            "</s>\n",
            "TJFs$ñ™XFs&4HGGXXXXOYñs>eII>)99y;\\’2-:&4~lM,ZZ6~\n",
            "</s>\n",
            "GéUUDUUIOOW$R7\n",
            "achieved tok/s: 686.980609\n"
          ]
        }
      ],
      "source": [
        "# inference\n",
        "!cd ./llama2.c && ./run out/model.bin -z data/tok105.bin -t 0.8 -n 256 -i \"Once upon a time \""
      ]
    }
  ],
  "metadata": {
    "accelerator": "GPU",
    "colab": {
      "gpuType": "T4",
      "provenance": [],
      "include_colab_link": true
    },
    "kernelspec": {
      "display_name": "Python 3",
      "name": "python3"
    },
    "language_info": {
      "name": "python"
    }
  },
  "nbformat": 4,
  "nbformat_minor": 0
}