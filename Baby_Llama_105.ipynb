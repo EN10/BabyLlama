{
  "cells": [
    {
      "cell_type": "markdown",
      "metadata": {
        "id": "view-in-github",
        "colab_type": "text"
      },
      "source": [
        "<a href=\"https://colab.research.google.com/github/EN10/BabyLlama/blob/main/Baby_Llama_105.ipynb\" target=\"_parent\"><img src=\"https://colab.research.google.com/assets/colab-badge.svg\" alt=\"Open In Colab\"/></a>"
      ]
    },
    {
      "cell_type": "code",
      "execution_count": 1,
      "metadata": {
        "colab": {
          "base_uri": "https://localhost:8080/"
        },
        "id": "OnipH4BHgpu1",
        "outputId": "b34575d6-bf72-4f68-dc93-c1c4b2151f4c"
      },
      "outputs": [
        {
          "output_type": "stream",
          "name": "stdout",
          "text": [
            "Cloning into 'llama2.c'...\n",
            "remote: Enumerating objects: 1517, done.\u001b[K\n",
            "remote: Counting objects: 100% (10/10), done.\u001b[K\n",
            "remote: Compressing objects: 100% (10/10), done.\u001b[K\n",
            "remote: Total 1517 (delta 4), reused 4 (delta 0), pack-reused 1507\u001b[K\n",
            "Receiving objects: 100% (1517/1517), 1.23 MiB | 2.68 MiB/s, done.\n",
            "Resolving deltas: 100% (931/931), done.\n"
          ]
        }
      ],
      "source": [
        "# training and inference code\n",
        "!git clone https://github.com/karpathy/llama2.c.git"
      ]
    },
    {
      "cell_type": "code",
      "execution_count": 2,
      "metadata": {
        "id": "Tx04_T-pv1zf",
        "outputId": "1a972131-8db0-43bc-9ee3-decbc37061b4",
        "colab": {
          "base_uri": "https://localhost:8080/"
        }
      },
      "outputs": [
        {
          "output_type": "stream",
          "name": "stdout",
          "text": [
            "--2024-07-10 08:02:53--  https://huggingface.co/datasets/enio/TinyStories/resolve/main/tok105/tok105.model\n",
            "Resolving huggingface.co (huggingface.co)... 13.226.225.123, 13.226.225.74, 13.226.225.112, ...\n",
            "Connecting to huggingface.co (huggingface.co)|13.226.225.123|:443... connected.\n",
            "HTTP request sent, awaiting response... 302 Found\n",
            "Location: https://cdn-lfs-us-1.huggingface.co/repos/65/c8/65c8615bfd6b6d94c8e62381ee6653578b439f71ff04b86aaefa9828dec8bb70/eed6827c1b4d876b982b9b628626dba444960a041857085e0d88c4a92aa8d3c6?response-content-disposition=inline%3B+filename*%3DUTF-8%27%27tok105.model%3B+filename%3D%22tok105.model%22%3B&Expires=1720857773&Policy=eyJTdGF0ZW1lbnQiOlt7IkNvbmRpdGlvbiI6eyJEYXRlTGVzc1RoYW4iOnsiQVdTOkVwb2NoVGltZSI6MTcyMDg1Nzc3M319LCJSZXNvdXJjZSI6Imh0dHBzOi8vY2RuLWxmcy11cy0xLmh1Z2dpbmdmYWNlLmNvL3JlcG9zLzY1L2M4LzY1Yzg2MTViZmQ2YjZkOTRjOGU2MjM4MWVlNjY1MzU3OGI0MzlmNzFmZjA0Yjg2YWFlZmE5ODI4ZGVjOGJiNzAvZWVkNjgyN2MxYjRkODc2Yjk4MmI5YjYyODYyNmRiYTQ0NDk2MGEwNDE4NTcwODVlMGQ4OGM0YTkyYWE4ZDNjNj9yZXNwb25zZS1jb250ZW50LWRpc3Bvc2l0aW9uPSoifV19&Signature=q6qA4i-QqAyUFXeyWVVQdV0Ef6YgzNrKdve3kLDZpOwFGuSrOq6X31hfOBvGKsC4ogCrjIbnmPDkE4xU84OerxK7w-t0ch10r4eV0Tif2TScOj4mqHiVH4qNTW2rgF1USduIRmNz3KaYfxM8z3xo-NF0IhFU5SqJdMQNjnWhiP7sW-DbGwZYRa3VNjuhVN0CvSjYk1HYu7jqbwkOWyhp9iOP7fLzSrll%7EzdPwfoRWmXE7qHrTDSX2S1RGmQe3sqJe7gvqBXjKFmM2TbfAlywCChUj2ZsSx1NANOo30FtBb3KHWj%7Ef5kHM0jd5im%7E3XbtA5p4VC1wadKMSP6tJB0aQw__&Key-Pair-Id=K24J24Z295AEI9 [following]\n",
            "--2024-07-10 08:02:53--  https://cdn-lfs-us-1.huggingface.co/repos/65/c8/65c8615bfd6b6d94c8e62381ee6653578b439f71ff04b86aaefa9828dec8bb70/eed6827c1b4d876b982b9b628626dba444960a041857085e0d88c4a92aa8d3c6?response-content-disposition=inline%3B+filename*%3DUTF-8%27%27tok105.model%3B+filename%3D%22tok105.model%22%3B&Expires=1720857773&Policy=eyJTdGF0ZW1lbnQiOlt7IkNvbmRpdGlvbiI6eyJEYXRlTGVzc1RoYW4iOnsiQVdTOkVwb2NoVGltZSI6MTcyMDg1Nzc3M319LCJSZXNvdXJjZSI6Imh0dHBzOi8vY2RuLWxmcy11cy0xLmh1Z2dpbmdmYWNlLmNvL3JlcG9zLzY1L2M4LzY1Yzg2MTViZmQ2YjZkOTRjOGU2MjM4MWVlNjY1MzU3OGI0MzlmNzFmZjA0Yjg2YWFlZmE5ODI4ZGVjOGJiNzAvZWVkNjgyN2MxYjRkODc2Yjk4MmI5YjYyODYyNmRiYTQ0NDk2MGEwNDE4NTcwODVlMGQ4OGM0YTkyYWE4ZDNjNj9yZXNwb25zZS1jb250ZW50LWRpc3Bvc2l0aW9uPSoifV19&Signature=q6qA4i-QqAyUFXeyWVVQdV0Ef6YgzNrKdve3kLDZpOwFGuSrOq6X31hfOBvGKsC4ogCrjIbnmPDkE4xU84OerxK7w-t0ch10r4eV0Tif2TScOj4mqHiVH4qNTW2rgF1USduIRmNz3KaYfxM8z3xo-NF0IhFU5SqJdMQNjnWhiP7sW-DbGwZYRa3VNjuhVN0CvSjYk1HYu7jqbwkOWyhp9iOP7fLzSrll%7EzdPwfoRWmXE7qHrTDSX2S1RGmQe3sqJe7gvqBXjKFmM2TbfAlywCChUj2ZsSx1NANOo30FtBb3KHWj%7Ef5kHM0jd5im%7E3XbtA5p4VC1wadKMSP6tJB0aQw__&Key-Pair-Id=K24J24Z295AEI9\n",
            "Resolving cdn-lfs-us-1.huggingface.co (cdn-lfs-us-1.huggingface.co)... 3.163.125.56, 3.163.125.74, 3.163.125.75, ...\n",
            "Connecting to cdn-lfs-us-1.huggingface.co (cdn-lfs-us-1.huggingface.co)|3.163.125.56|:443... connected.\n",
            "HTTP request sent, awaiting response... 200 OK\n",
            "Length: 1181 (1.2K) [binary/octet-stream]\n",
            "Saving to: ‘tok105.model’\n",
            "\n",
            "tok105.model        100%[===================>]   1.15K  --.-KB/s    in 0s      \n",
            "\n",
            "2024-07-10 08:02:53 (462 MB/s) - ‘tok105.model’ saved [1181/1181]\n",
            "\n",
            "--2024-07-10 08:02:54--  https://huggingface.co/datasets/enio/TinyStories/raw/main/tok105/tok105.vocab\n",
            "Resolving huggingface.co (huggingface.co)... 13.226.225.74, 13.226.225.18, 13.226.225.123, ...\n",
            "Connecting to huggingface.co (huggingface.co)|13.226.225.74|:443... connected.\n",
            "HTTP request sent, awaiting response... 200 OK\n",
            "Length: 651 [text/plain]\n",
            "Saving to: ‘tok105.vocab’\n",
            "\n",
            "tok105.vocab        100%[===================>]     651  --.-KB/s    in 0s      \n",
            "\n",
            "2024-07-10 08:02:54 (437 MB/s) - ‘tok105.vocab’ saved [651/651]\n",
            "\n",
            "--2024-07-10 08:02:54--  https://huggingface.co/datasets/enio/TinyStories/resolve/main/tok105/tok105.tar.gz\n",
            "Resolving huggingface.co (huggingface.co)... 13.226.225.74, 13.226.225.18, 13.226.225.123, ...\n",
            "Connecting to huggingface.co (huggingface.co)|13.226.225.74|:443... connected.\n",
            "HTTP request sent, awaiting response... 302 Found\n",
            "Location: https://cdn-lfs-us-1.huggingface.co/repos/65/c8/65c8615bfd6b6d94c8e62381ee6653578b439f71ff04b86aaefa9828dec8bb70/cb372a204bcf1d02859ee1e11f956a8b49b6745e47bc791f943c3640e598bcdf?response-content-disposition=inline%3B+filename*%3DUTF-8%27%27tok105.tar.gz%3B+filename%3D%22tok105.tar.gz%22%3B&response-content-type=application%2Fgzip&Expires=1720857774&Policy=eyJTdGF0ZW1lbnQiOlt7IkNvbmRpdGlvbiI6eyJEYXRlTGVzc1RoYW4iOnsiQVdTOkVwb2NoVGltZSI6MTcyMDg1Nzc3NH19LCJSZXNvdXJjZSI6Imh0dHBzOi8vY2RuLWxmcy11cy0xLmh1Z2dpbmdmYWNlLmNvL3JlcG9zLzY1L2M4LzY1Yzg2MTViZmQ2YjZkOTRjOGU2MjM4MWVlNjY1MzU3OGI0MzlmNzFmZjA0Yjg2YWFlZmE5ODI4ZGVjOGJiNzAvY2IzNzJhMjA0YmNmMWQwMjg1OWVlMWUxMWY5NTZhOGI0OWI2NzQ1ZTQ3YmM3OTFmOTQzYzM2NDBlNTk4YmNkZj9yZXNwb25zZS1jb250ZW50LWRpc3Bvc2l0aW9uPSomcmVzcG9uc2UtY29udGVudC10eXBlPSoifV19&Signature=uo3Bg9uaxH51CL%7EF3FyVHP%7EmccTASYbgtYxKj4IJurwn1qa7wT69YSjEUG0Yvqum%7EyFsU1hapOA7fKpaEwEwrHfsIEBGp3qEFaDSSaEamHSDnKGUi7RcbDBwVQPd5driREvWNzEVL4-65gmS-53XJ-Kh4tuihhoA2xDt3%7EGXveHoH5OVutYfNEMQrBOzMdhnK7Y9zC-bYCFRGdDNoe%7EvCR-Uuqh5qtGVIHmLcwuZkA5xeoaa-4AfbGOQQZ6vtuPa2JMrLEzhqodcxL9Wbbu8TxV6m5qqoBDupbPT8jSqSnTWWJ0k8QMHnHMWLIVj6rDJEjlB9wwnE5afZCcp5gUrSQ__&Key-Pair-Id=K24J24Z295AEI9 [following]\n",
            "--2024-07-10 08:02:54--  https://cdn-lfs-us-1.huggingface.co/repos/65/c8/65c8615bfd6b6d94c8e62381ee6653578b439f71ff04b86aaefa9828dec8bb70/cb372a204bcf1d02859ee1e11f956a8b49b6745e47bc791f943c3640e598bcdf?response-content-disposition=inline%3B+filename*%3DUTF-8%27%27tok105.tar.gz%3B+filename%3D%22tok105.tar.gz%22%3B&response-content-type=application%2Fgzip&Expires=1720857774&Policy=eyJTdGF0ZW1lbnQiOlt7IkNvbmRpdGlvbiI6eyJEYXRlTGVzc1RoYW4iOnsiQVdTOkVwb2NoVGltZSI6MTcyMDg1Nzc3NH19LCJSZXNvdXJjZSI6Imh0dHBzOi8vY2RuLWxmcy11cy0xLmh1Z2dpbmdmYWNlLmNvL3JlcG9zLzY1L2M4LzY1Yzg2MTViZmQ2YjZkOTRjOGU2MjM4MWVlNjY1MzU3OGI0MzlmNzFmZjA0Yjg2YWFlZmE5ODI4ZGVjOGJiNzAvY2IzNzJhMjA0YmNmMWQwMjg1OWVlMWUxMWY5NTZhOGI0OWI2NzQ1ZTQ3YmM3OTFmOTQzYzM2NDBlNTk4YmNkZj9yZXNwb25zZS1jb250ZW50LWRpc3Bvc2l0aW9uPSomcmVzcG9uc2UtY29udGVudC10eXBlPSoifV19&Signature=uo3Bg9uaxH51CL%7EF3FyVHP%7EmccTASYbgtYxKj4IJurwn1qa7wT69YSjEUG0Yvqum%7EyFsU1hapOA7fKpaEwEwrHfsIEBGp3qEFaDSSaEamHSDnKGUi7RcbDBwVQPd5driREvWNzEVL4-65gmS-53XJ-Kh4tuihhoA2xDt3%7EGXveHoH5OVutYfNEMQrBOzMdhnK7Y9zC-bYCFRGdDNoe%7EvCR-Uuqh5qtGVIHmLcwuZkA5xeoaa-4AfbGOQQZ6vtuPa2JMrLEzhqodcxL9Wbbu8TxV6m5qqoBDupbPT8jSqSnTWWJ0k8QMHnHMWLIVj6rDJEjlB9wwnE5afZCcp5gUrSQ__&Key-Pair-Id=K24J24Z295AEI9\n",
            "Resolving cdn-lfs-us-1.huggingface.co (cdn-lfs-us-1.huggingface.co)... 3.163.125.56, 3.163.125.74, 3.163.125.75, ...\n",
            "Connecting to cdn-lfs-us-1.huggingface.co (cdn-lfs-us-1.huggingface.co)|3.163.125.56|:443... connected.\n",
            "HTTP request sent, awaiting response... 200 OK\n",
            "Length: 1397322602 (1.3G) [application/gzip]\n",
            "Saving to: ‘tok105.tar.gz’\n",
            "\n",
            "tok105.tar.gz       100%[===================>]   1.30G  80.6MB/s    in 17s     \n",
            "\n",
            "2024-07-10 08:03:11 (80.5 MB/s) - ‘tok105.tar.gz’ saved [1397322602/1397322602]\n",
            "\n"
          ]
        }
      ],
      "source": [
        "!mkdir ./llama2.c/data\n",
        "# create vocab\n",
        "!cd ./llama2.c/data && wget https://huggingface.co/datasets/enio/TinyStories/resolve/main/tok105/tok105.model\n",
        "!cd ./llama2.c/data && wget https://huggingface.co/datasets/enio/TinyStories/raw/main/tok105/tok105.vocab\n",
        "\n",
        "# use vocab to pretokenize training data\n",
        "!cd ./llama2.c/data && wget https://huggingface.co/datasets/enio/TinyStories/resolve/main/tok105/tok105.tar.gz\n",
        "!cd ./llama2.c/data && tar -xf tok105.tar.gz\n",
        "\n",
        "# compile run / inference executable\n",
        "!cd llama2.c && gcc -O3 -o run run.c -lm\n",
        "# create tok105.bin\n",
        "!cd llama2.c && python tokenizer.py --tokenizer-model=data/tok105.model"
      ]
    },
    {
      "cell_type": "code",
      "execution_count": 3,
      "metadata": {
        "id": "sdMK1MW8g4eM",
        "outputId": "88e2073e-7918-4a61-8ee6-e26b2bad432f",
        "colab": {
          "base_uri": "https://localhost:8080/"
        }
      },
      "outputs": [
        {
          "output_type": "stream",
          "name": "stdout",
          "text": [
            "Overriding: vocab_source = custom\n",
            "Overriding: vocab_size = 105\n",
            "Overriding: compile = False\n",
            "Overriding: dim = 128\n",
            "Overriding: n_layers = 5\n",
            "Overriding: n_heads = 8\n",
            "Overriding: n_kv_heads = 4\n",
            "Overriding: batch_size = 32\n",
            "Overriding: always_save_checkpoint = True\n",
            "Overriding: eval_interval = 1\n",
            "Overriding: max_iters = 1\n",
            "tokens per iteration will be: 32,768\n",
            "breaks down as: 4 grad accum steps * 1 processes * 32 batch size * 256 max seq len\n",
            "Initializing a new model from scratch\n",
            "num decayed parameter tensors: 36, with 935,040 parameters\n",
            "num non-decayed parameter tensors: 11, with 1,408 parameters\n",
            "using fused AdamW: True\n",
            "Created a PretokDataset with rng seed 42\n",
            "Created a PretokDataset with rng seed 42\n",
            "Created a PretokDataset with rng seed 42\n",
            "step 0: train loss 4.7025, val loss 4.7022\n",
            "0 | loss 4.7045 | lr 0.000000e+00 | 8279.61ms | mfu -100.00%\n",
            "Created a PretokDataset with rng seed 42\n",
            "Created a PretokDataset with rng seed 42\n",
            "step 1: train loss 4.7025, val loss 4.7022\n",
            "saving checkpoint to out\n",
            "wrote out/model.bin\n",
            "1 | loss 4.7073 | lr 5.000000e-07 | 5532.81ms | mfu -100.00%\n"
          ]
        }
      ],
      "source": [
        "# train neural net\n",
        "!cd llama2.c && python train.py --vocab_source=custom --vocab_size=105 --compile=False \\\n",
        "  --dim=128 --n_layers=5 --n_heads=8 --n_kv_heads=4 --batch_size=32 \\\n",
        "  --always_save_checkpoint=True --eval_interval=1 --max_iters=1 #--init_from='resume'"
      ]
    },
    {
      "cell_type": "code",
      "execution_count": 4,
      "metadata": {
        "id": "1-ylANKlOfCr",
        "outputId": "4611b7c2-c8d9-4f9c-dde6-3e65e96ef8f1",
        "colab": {
          "base_uri": "https://localhost:8080/"
        }
      },
      "outputs": [
        {
          "output_type": "stream",
          "name": "stdout",
          "text": [
            "Once upon a time  36D($,SNNdZe%%hdnY qKKoL4hD[–W2aFddkboo“;fx((ssss2â XAA,—’R>>SxQ%>>>ru   Q!ddd—b MX$>j/ eC'7F/WWxxWftMMMU(–c04T\"bWr>snWe6–tZR\"aMhyfqbhmrxwcB“H&&SOv™™“s2Z[%…[oaRHñ\\\"8B1E/77|–tWg<unk>a’ééqqok6\\,é&âfxtttt(DKKK(oIP“UHHvvâ\\4OO>HHHa\"AU5fICPR\n",
            "achieved tok/s: 838.926174\n"
          ]
        }
      ],
      "source": [
        "# inference\n",
        "!cd ./llama2.c && ./run out/model.bin -z data/tok105.bin -t 0.8 -n 256 -i \"Once upon a time \""
      ]
    }
  ],
  "metadata": {
    "accelerator": "GPU",
    "colab": {
      "gpuType": "T4",
      "provenance": [],
      "include_colab_link": true
    },
    "kernelspec": {
      "display_name": "Python 3",
      "name": "python3"
    },
    "language_info": {
      "name": "python"
    }
  },
  "nbformat": 4,
  "nbformat_minor": 0
}